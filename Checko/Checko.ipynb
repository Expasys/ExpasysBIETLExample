{
 "cells": [
  {
   "cell_type": "code",
   "execution_count": null,
   "id": "43bcab2e-17eb-4f84-84c3-9b7d2b1d90b1",
   "metadata": {},
   "outputs": [],
   "source": [
    "import requests"
   ]
  },
  {
   "cell_type": "markdown",
   "id": "230a86d0-1526-45ec-ad28-e02cee5c9425",
   "metadata": {},
   "source": [
    "Ваш API-ключ можно найти после регистрации по ссылке: https://checko.ru/user/account/api"
   ]
  },
  {
   "cell_type": "code",
   "execution_count": null,
   "id": "c1f8c4b6-22c2-4ce7-952a-4d6ba01e9d85",
   "metadata": {},
   "outputs": [],
   "source": [
    "api_key='API-ключ'"
   ]
  },
  {
   "cell_type": "markdown",
   "id": "f852af34-486b-4d46-90a7-7ff612619ebd",
   "metadata": {},
   "source": [
    "Список методов и их описание можно найти по ссылке: https://checko.ru/integration/api"
   ]
  },
  {
   "cell_type": "markdown",
   "id": "d18aa1a9-683e-4f23-85f0-56b67f951960",
   "metadata": {},
   "source": [
    "# Организации\n",
    "Информация о юридических лицах. Сведения из ЕГРЮЛ, контакты, связи через руководителей и учредителей, налоги, реестр МСП, проверка факторов риска. Используются данные ФНС и ФАС"
   ]
  },
  {
   "cell_type": "markdown",
   "id": "47a7abfd-055b-48da-a354-0ae3196cd213",
   "metadata": {},
   "source": [
    "Используются POST- или GET-запросы следующего вида"
   ]
  },
  {
   "cell_type": "code",
   "execution_count": null,
   "id": "343310e8-7971-4b97-92df-a1e604340d80",
   "metadata": {},
   "outputs": [],
   "source": [
    "requests.get('https://api.checko.ru/v2/company?key={API-ключ}&{параметры запроса}')\n",
    "requests.post(\"https://api.checko.ru/v2/company\", json=[{\"key\": '{API-ключ}', \"параметр1\": '{значение параметра1}', ...}])"
   ]
  },
  {
   "cell_type": "markdown",
   "id": "553f85e0-ebab-4f08-9905-6bc6b67e3797",
   "metadata": {},
   "source": [
    "Параметры запроса\n",
    "- ogrn (ОГРН организации) - **Должен быть указан, если не указан ИНН**\n",
    "- inn (ИНН организации) - **Должен быть указан, если не указан ОГРН**\n",
    "- kpp (КПП организации) - Если вы указали ИНН организации, вы можете указать и ее КПП. Связка ИНН + КПП является уникальной и позволяет точно определить организацию\n",
    "- okpo (код ОКПО организации) - **Должен быть указан, если не указаны ОГРН и ИНН**\n",
    "- source - При указании параметра source=true вы получите ответ с добавлением исходного набора данных из ЕГРЮЛ"
   ]
  },
  {
   "cell_type": "markdown",
   "id": "ee08be51-e055-40fa-90c0-45cd4f2f87eb",
   "metadata": {},
   "source": [
    "Примеры запросов"
   ]
  },
  {
   "cell_type": "code",
   "execution_count": null,
   "id": "5e363ffd-fc44-43f4-871b-7cb6b3df5659",
   "metadata": {},
   "outputs": [],
   "source": [
    "company1 = requests.get(f'https://api.checko.ru/v2/company?key={api_key}&ogrn=1224000000278').json()"
   ]
  },
  {
   "cell_type": "code",
   "execution_count": null,
   "id": "4f8814ec-3803-45c6-b03f-6872c6b9171a",
   "metadata": {},
   "outputs": [],
   "source": [
    "company2 = requests.get(f'https://api.checko.ru/v2/company?key={api_key}&inn=4027148080').json()"
   ]
  },
  {
   "cell_type": "code",
   "execution_count": null,
   "id": "5faf0cfb-0f6e-462a-b10f-156af56e203f",
   "metadata": {},
   "outputs": [],
   "source": [
    "company3 = requests.get(f'https://api.checko.ru/v2/company?key={api_key}&ogrn=1224000000278&source=true').json()"
   ]
  },
  {
   "cell_type": "markdown",
   "id": "3490296f-3d0c-4421-a931-caac72bc07a6",
   "metadata": {},
   "source": [
    "# Индивидуальные предприниматели\n",
    "Информация об индивидуальных предпринимателях. Сведения из ЕГРИП, связи с организациями, реестр МСП, проверка факторов риска. Используются данные ФНС и ФАС"
   ]
  },
  {
   "cell_type": "markdown",
   "id": "dcf9ccfb-c907-4593-9a8c-25bed1d49ed3",
   "metadata": {},
   "source": [
    "Используются POST- или GET-запросы следующего вида"
   ]
  },
  {
   "cell_type": "code",
   "execution_count": null,
   "id": "248a8c33-15a0-422d-8887-dfe812f5ba06",
   "metadata": {},
   "outputs": [],
   "source": [
    "requests.get('https://api.checko.ru/v2/entrepreneur?key={API-ключ}&{параметры запроса}')\n",
    "requests.post(\"https://api.checko.ru/v2/entrepreneur\", json=[{\"key\": '{API-ключ}', \"параметр1\": '{значение параметра1}', ...}])"
   ]
  },
  {
   "cell_type": "markdown",
   "id": "4c6fdf2d-0a0c-44c0-8abc-fcd12b230593",
   "metadata": {},
   "source": [
    "Параметры запроса\n",
    "- ogrn (ОГРНИП предпринимателя) - **Должен быть указан, если не указан ИНН**\n",
    "- inn (ИНН предпринимателя) - **Должен быть указан, если не указан ОГРНИП**\n",
    "- okpo (код ОКПО предпринимателя) - **Должен быть указан, если не указаны ОГРНИП и ИНН**\n",
    "- source - При указании параметра source=true вы получите ответ с добавлением исходного набора данных из ЕГРИП"
   ]
  },
  {
   "cell_type": "markdown",
   "id": "fb0bc197-8d47-4f37-a693-5ccb7296c0a1",
   "metadata": {},
   "source": [
    "Примеры запросов"
   ]
  },
  {
   "cell_type": "code",
   "execution_count": null,
   "id": "2f616fb6-f852-43a3-bff3-5ddfa6798e9d",
   "metadata": {},
   "outputs": [],
   "source": [
    "entrepreneur1 = requests.get(f'https://api.checko.ru/v2/entrepreneur?key={api_key}&ogrn=310402910200035').json()"
   ]
  },
  {
   "cell_type": "code",
   "execution_count": null,
   "id": "44442e72-2937-4f24-9f0b-91af27b2a09d",
   "metadata": {},
   "outputs": [],
   "source": [
    "entrepreneur2 = requests.get(f'https://api.checko.ru/v2/entrepreneur?key={api_key}&inn=402907671076').json()"
   ]
  },
  {
   "cell_type": "code",
   "execution_count": null,
   "id": "df9af4a8-8ce7-4773-b92b-6802899912dc",
   "metadata": {},
   "outputs": [],
   "source": [
    "entrepreneur3 = requests.get(f'https://api.checko.ru/v2/entrepreneur?key={api_key}&ogrn=310402910200035&source=true').json()"
   ]
  },
  {
   "cell_type": "markdown",
   "id": "a208d897-3dcd-4ad2-aa03-967f61bd2a3e",
   "metadata": {},
   "source": [
    "# Физические лица\n",
    "Информация о физических лицах. Связи с организациями и предпринимателями, проверка факторов риска. Используются реестры ЕГРЮЛ и ЕГРИП, наборы открытых данных от ФНС и ФАС"
   ]
  },
  {
   "cell_type": "markdown",
   "id": "be6098ed-fd44-419a-9e6a-ff29d6787e03",
   "metadata": {},
   "source": [
    "Используются POST- или GET-запросы следующего вида"
   ]
  },
  {
   "cell_type": "code",
   "execution_count": null,
   "id": "63c25594-9dd2-4a41-8344-c894bc2f6bcf",
   "metadata": {},
   "outputs": [],
   "source": [
    "requests.get('https://api.checko.ru/v2/person?key={API-ключ}&{параметры запроса}')\n",
    "requests.post(\"https://api.checko.ru/v2/person\", json=[{\"key\": '{API-ключ}', \"параметр1\": '{значение параметра1}', ...}])"
   ]
  },
  {
   "cell_type": "markdown",
   "id": "b3d702b1-6d72-47c7-9b1d-9a7c3296a843",
   "metadata": {},
   "source": [
    "Параметр запроса\n",
    "- inn (ИНН физического лица) - **Обязательный параметр**"
   ]
  },
  {
   "cell_type": "markdown",
   "id": "18fdccc6-7875-4ab6-8333-da885391a22d",
   "metadata": {},
   "source": [
    "Пример запроса"
   ]
  },
  {
   "cell_type": "code",
   "execution_count": null,
   "id": "14ba13dc-4c8f-438c-966d-42932deaf769",
   "metadata": {},
   "outputs": [],
   "source": [
    "person = requests.get(f'https://api.checko.ru/v2/person?key={api_key}&inn=402907671076').json()"
   ]
  },
  {
   "cell_type": "markdown",
   "id": "870634aa-1f05-437e-98ba-4acc106bc7a9",
   "metadata": {},
   "source": [
    "# Поиск\n",
    "Поиск организаций и индивидуальных предпринимателей по наименованию, учредителям, руководителям, кодам ОКВЭД-2, датам регистрации или обновления. Используются данные ЕГРЮЛ и ЕГРИП от ФНС"
   ]
  },
  {
   "cell_type": "markdown",
   "id": "a616f299-13db-4fbe-abd1-d0b56937a084",
   "metadata": {},
   "source": [
    "Используются POST- или GET-запросы следующего вида"
   ]
  },
  {
   "cell_type": "code",
   "execution_count": null,
   "id": "14273aea-45e1-447d-833d-3db66a8687cf",
   "metadata": {},
   "outputs": [],
   "source": [
    "requests.get('https://api.checko.ru/v2/search?key={API-ключ}&{параметры запроса}')\n",
    "requests.post(\"https://api.checko.ru/v2/search\", json=[{\"key\": '{API-ключ}', \"параметр1\": '{значение параметра1}', ...}])"
   ]
  },
  {
   "cell_type": "markdown",
   "id": "eaed389e-2a72-4bfe-89ba-903739fa978b",
   "metadata": {},
   "source": [
    "Параметры запроса\n",
    "- by (тип поиска) - **Обязательный параметр**\n",
    "    - by=name - для поиска по наименованию организации или ФИО предпринимателя,\n",
    "    - by=founder-name для поиска по ФИО учредителя или наименованию компании-учредителя,\n",
    "    - by=leader-name для поиска по ФИО руководителя,\n",
    "    - by=okved для поиска по коду ОКВЭД-2 основного вида деятельности,\n",
    "    - by=reg-date для поиска по дате регистрации,\n",
    "    - by=upd-date для поиска по дате обновления выписки ЕГРЮЛ или ЕГРИП.\n",
    "- obj (область поиска) - **Обязательный параметр**\n",
    "    - obj=org для поиска по организациям,\n",
    "    - obj=ent для поиска по индивидуальным предпринимателям.\n",
    "- query (текст поискового запроса) - **Обязательный параметр**. Минимальное количество символов для поиска по наименованию или ФИО: 4. Для поиска по дате регистрации или обновления, используйте формат даты YYYY-MM-DD\n",
    "- region - Код региона организации или ИП, состоящий из 2 цифр\n",
    "- okved - Код основного вида деятельности организации или ИП согласно ОКВЭД-2. Параметр не применяется при поиске типа by=okved\n",
    "- opf - Код организационно-правовой формы организации, состоящий из 2 или 5 цифр согласно классификатору ОКОПФ. Параметр не применяется при поиске типа by=name и при поиске по предпринимателям obj=ent\n",
    "- active - При указании параметра active=true в результатах поиска будут только активные организации или ИП\n",
    "- limit - Ограничение количества результатов поиска на одну страницу. Значение по умолчанию: 100, максимальное значение: 100\n",
    "- page (номер страницы) - Если количество результатов поиска превышает значение limit, результаты будут разбиты на несколько страниц и вы сможете использовать данный параметр для просмотра нужной страницы"
   ]
  },
  {
   "cell_type": "markdown",
   "id": "e289c562-3a98-45d3-847e-500b3be91592",
   "metadata": {},
   "source": [
    "Примеры запросов"
   ]
  },
  {
   "cell_type": "code",
   "execution_count": null,
   "id": "c7417673-6dd6-4de6-ab32-d51f7db12ee5",
   "metadata": {},
   "outputs": [],
   "source": [
    "search1 = requests.get(f'https://api.checko.ru/v2/search?key={api_key}&by=name&obj=org&query=пао ростелеком').json()"
   ]
  },
  {
   "cell_type": "code",
   "execution_count": null,
   "id": "60f850fd-cbf3-4b00-8e25-69e3c1f17fa5",
   "metadata": {},
   "outputs": [],
   "source": [
    "search2 = requests.get(f'https://api.checko.ru/v2/search?key={api_key}&by=name&obj=org&query=пао ростелеком').json()"
   ]
  },
  {
   "cell_type": "code",
   "execution_count": null,
   "id": "c44d484c-8726-4e3f-938e-3d6d6a73fee9",
   "metadata": {},
   "outputs": [],
   "source": [
    "search3 = requests.get(f'https://api.checko.ru/v2/search?key={api_key}&by=founder-name&obj=org&query=нуралиев борис').json()"
   ]
  },
  {
   "cell_type": "code",
   "execution_count": null,
   "id": "8ec5ac3e-ec80-4579-afdc-8baeff89ad50",
   "metadata": {},
   "outputs": [],
   "source": [
    "search4 = requests.get(f'https://api.checko.ru/v2/search?key={api_key}&by=leader-name&obj=org&query=греф герман оскарович&region=77').json()"
   ]
  },
  {
   "cell_type": "code",
   "execution_count": null,
   "id": "ba2a78d0-3f7f-4608-ba12-ad68bc430ce7",
   "metadata": {},
   "outputs": [],
   "source": [
    "search5 = requests.get(f'https://api.checko.ru/v2/search?key={api_key}&by=okved&obj=org&query=63.11&opf=12300&active=true').json()"
   ]
  },
  {
   "cell_type": "code",
   "execution_count": null,
   "id": "316d7ba3-0927-4165-a6a1-239f5a2d4ccd",
   "metadata": {},
   "outputs": [],
   "source": [
    "search6 = requests.get(f'https://api.checko.ru/v2/search?key={api_key}&by=reg-date&obj=org&query=2021-12-09&okved=63.11').json()"
   ]
  },
  {
   "cell_type": "code",
   "execution_count": null,
   "id": "61d19ce7-e19d-4456-93ad-bc10d1bbc7d3",
   "metadata": {},
   "outputs": [],
   "source": [
    "search7 = requests.get(f'https://api.checko.ru/v2/search?key={api_key}&by=upd-date&obj=org&query=2022-01-27').json()"
   ]
  },
  {
   "cell_type": "markdown",
   "id": "3d9d083e-b1a6-4cab-b18b-5b2dde9a28e7",
   "metadata": {},
   "source": [
    "# Финансовая отчетность\n",
    "Финансовая отчетность российских организаций согласно данным Росстата и Государственного информационного ресурса бухгалтерской отчетности от ФНС"
   ]
  },
  {
   "cell_type": "markdown",
   "id": "d9d1415d-07be-4355-92d9-62c33576f65c",
   "metadata": {},
   "source": [
    "Используются POST- или GET-запросы следующего вида"
   ]
  },
  {
   "cell_type": "code",
   "execution_count": null,
   "id": "35b067c1-3b69-47af-80e7-89574be032f9",
   "metadata": {},
   "outputs": [],
   "source": [
    "requests.get('https://api.checko.ru/v2/finances?key={API-ключ}&{параметры запроса}')\n",
    "requests.post(\"https://api.checko.ru/v2/finances\", json=[{\"key\": '{API-ключ}', \"параметр1\": '{значение параметра1}', ...}])"
   ]
  },
  {
   "cell_type": "markdown",
   "id": "f216633f-58bf-4320-890b-5da1c8b31f4c",
   "metadata": {},
   "source": [
    "Параметры запроса\n",
    "- ogrn (ОГРН организации) - **Должен быть указан, если не указан ИНН**\n",
    "- inn (ИНН организации) - **Должен быть указан, если не указан ОГРН**\n",
    "- kpp (КПП организации) - Если вы указали ИНН организации, вы можете указать и ее КПП. Связка ИНН + КПП является уникальной и позволяет точно определить организацию\n",
    "- extended - При указании параметра extended=true вы получите расширенную версию финансовой отчетности"
   ]
  },
  {
   "cell_type": "markdown",
   "id": "34bd6192-1522-4311-9647-062f01635f15",
   "metadata": {},
   "source": [
    "Примеры запросов"
   ]
  },
  {
   "cell_type": "code",
   "execution_count": null,
   "id": "09dbeb27-76ca-4a59-895b-64ea7570722a",
   "metadata": {},
   "outputs": [],
   "source": [
    "finances1 = requests.get(f'https://api.checko.ru/v2/finances?key={api_key}&inn=7707049388').json()"
   ]
  },
  {
   "cell_type": "code",
   "execution_count": null,
   "id": "04839002-ddb1-4e7e-bd43-44d30def65ea",
   "metadata": {},
   "outputs": [],
   "source": [
    "finances2 = requests.get(f'https://api.checko.ru/v2/finances?key={api_key}&ogrn=1027700198767&extended=true').json()"
   ]
  },
  {
   "cell_type": "markdown",
   "id": "14ca5a51-ea70-4b20-9e35-3434d1dc8af8",
   "metadata": {},
   "source": [
    "# Контракты по госзакупкам\n",
    "Контракты по государственным закупкам по 44-ФЗ и 94-ФЗ, договоры по 223-ФЗ. Данные Единой информационной системы в сфере закупок"
   ]
  },
  {
   "cell_type": "markdown",
   "id": "2b1ba4f3-ce7c-47cb-8a58-f17590e0d6b3",
   "metadata": {},
   "source": [
    "Используются POST- или GET-запросы следующего вида"
   ]
  },
  {
   "cell_type": "code",
   "execution_count": null,
   "id": "515b9ae9-ad81-4863-87ef-cad7f42fedcb",
   "metadata": {},
   "outputs": [],
   "source": [
    "requests.get('https://api.checko.ru/v2/contracts?key={API-ключ}&{параметры запроса}')\n",
    "requests.post(\"https://api.checko.ru/v2/contracts\", json=[{\"key\": '{API-ключ}', \"параметр1\": '{значение параметра1}', ...}])"
   ]
  },
  {
   "cell_type": "markdown",
   "id": "3e523182-aad9-49ea-837b-2bbe1a5960b3",
   "metadata": {},
   "source": [
    "Параметры запроса\n",
    "- ogrn (ОГРН организации или ОГРНИП) - **Должен быть указан, если не указан ИНН**\n",
    "- inn (ИНН организации или предпринимателя) - **Должен быть указан, если не указан ОГРН**\n",
    "- kpp (КПП организации) - Если вы указали ИНН организации, вы можете указать и ее КПП. Связка ИНН + КПП является уникальной и позволяет точно определить организацию\n",
    "- law (федеральный закон, по которому осуществляются закупки) - **Обязательный параметр**\n",
    "    - law=44 для 44-ФЗ,\n",
    "    - law=94 для 94-ФЗ,\n",
    "    - law=223 для 223-ФЗ.\n",
    "- role (роль организации или ИП)\n",
    "    - role=customer для контрактов, в которых запрашиваемая организация или ИП является заказчиком,\n",
    "    - role=supplier для контрактов, в которых запрашиваемая организация или ИП является поставщиком (исполнителем).\n",
    "- limit\t- Ограничение количества найденных контрактов на одну страницу. Значение по умолчанию: 100, максимальное значение: 100\n",
    "- page (номер страницы) - Если количество найденных контрактов превышает значение limit, результаты будут разбиты на несколько страниц и вы сможете использовать данный параметр для просмотра нужной страницы\n",
    "- sort (сортировка результатов)\n",
    "    - sort=date для сортировки по дате подписания контракта, по возрастанию,\n",
    "    - sort=-date для сортировки по дате подписания контракта, по убыванию,\n",
    "    - sort=price для сортировки по цене контракта, по возрастанию,\n",
    "    - sort=-price для сортировки по цене контракта, по убыванию."
   ]
  },
  {
   "cell_type": "markdown",
   "id": "01c2a444-2187-45a6-9355-cbe78557a351",
   "metadata": {},
   "source": [
    "Примеры запросов"
   ]
  },
  {
   "cell_type": "code",
   "execution_count": null,
   "id": "9be13611-4a00-4859-b725-41b3bba31094",
   "metadata": {},
   "outputs": [],
   "source": [
    "contracts1 = requests.get(f'https://api.checko.ru/v2/contracts?key={api_key}&ogrn=1027700198767&law=44').json()"
   ]
  },
  {
   "cell_type": "code",
   "execution_count": null,
   "id": "d66d4886-9457-42b6-8ae9-ab49150a9c49",
   "metadata": {},
   "outputs": [],
   "source": [
    "contracts2 = requests.get(f'https://api.checko.ru/v2/contracts?key={api_key}&inn=7707049388&law=223&role=customer&sort=-price').json()"
   ]
  },
  {
   "cell_type": "code",
   "execution_count": null,
   "id": "d2d85b8d-6790-4db6-ab3c-c5456070131e",
   "metadata": {},
   "outputs": [],
   "source": [
    "contracts3 = requests.get(f'https://api.checko.ru/v2/contracts?key={api_key}&inn=7707049388&law=44&role=supplier&sort=-date&page=20').json()"
   ]
  },
  {
   "cell_type": "markdown",
   "id": "47825b35-aea9-4487-b88e-f784ddf36f79",
   "metadata": {},
   "source": [
    "# Проверки\n",
    "Проверки и КНМ в отношении организаций и индивидуальных предпринимателей. Данные ФГИС \"Единый реестр проверок\" и \"Единый реестр контрольных (надзорных) мероприятий\" Генеральной прокуратуры РФ"
   ]
  },
  {
   "cell_type": "markdown",
   "id": "795cb4e6-6d53-4c6d-b92d-c64d560a5a58",
   "metadata": {},
   "source": [
    "Используются POST- или GET-запросы следующего вида"
   ]
  },
  {
   "cell_type": "code",
   "execution_count": null,
   "id": "ea97f774-3a3e-4635-8733-05f9d3c6c621",
   "metadata": {},
   "outputs": [],
   "source": [
    "requests.get('https://api.checko.ru/v2/inspections?key={API-ключ}&{параметры запроса}')\n",
    "requests.post(\"https://api.checko.ru/v2/inspections\", json=[{\"key\": '{API-ключ}', \"параметр1\": '{значение параметра1}', ...}])"
   ]
  },
  {
   "cell_type": "markdown",
   "id": "aba69d7d-b9e3-4e48-86a5-e4d7bfbf4771",
   "metadata": {},
   "source": [
    "Параметры запроса\n",
    "- ogrn (ОГРН организации или ОРГНИП индивидуального предпринимателя) - **Должен быть указан, если не указан ИНН**\n",
    "- inn (ИНН организации или предпринимателя) - **Должен быть указан, если не указан ОГРН или ОГРНИП**\n",
    "- kpp (КПП организации) - Если вы указали ИНН организации, вы можете указать и ее КПП. Связка ИНН + КПП является уникальной и позволяет точно определить организацию\n",
    "- limit\t- Ограничение количества найденных проверок на одну страницу. Значение по умолчанию: 100, максимальное значение: 100\n",
    "- page (номер страницы) - Если количество найденных проверок превышает значение limit, результаты будут разбиты на несколько страниц и вы сможете использовать данный параметр для просмотра нужной страницы\n",
    "- sort (сортировка результатов)\n",
    "    - sort=date для сортировки по дате начала проведения, по возрастанию,\n",
    "    - sort=-date для сортировки по дате начала проведения, по убыванию."
   ]
  },
  {
   "cell_type": "markdown",
   "id": "f4cd86d6-25b1-4f94-bdc2-67eed4d6a787",
   "metadata": {},
   "source": [
    "Примеры запросов"
   ]
  },
  {
   "cell_type": "code",
   "execution_count": null,
   "id": "c69d9747-fafa-4ce6-a738-f287f38f5d46",
   "metadata": {},
   "outputs": [],
   "source": [
    "inspections1 = requests.get(f'https://api.checko.ru/v2/inspections?key={api_key}&ogrn=1027700198767').json()"
   ]
  },
  {
   "cell_type": "code",
   "execution_count": null,
   "id": "4a242813-a366-4d2e-b2a1-a5ba21d9b242",
   "metadata": {},
   "outputs": [],
   "source": [
    "inspections2 = requests.get(f'https://api.checko.ru/v2/inspections?key={api_key}&inn=7707049388&sort=-date&limit=10').json()"
   ]
  },
  {
   "cell_type": "markdown",
   "id": "dc3db93b-8f64-487f-96e0-1cfa498d6f4f",
   "metadata": {},
   "source": [
    "# Исполнительные производства\n",
    "Исполнительные производства, открытые в отношении российских организаций. Данные Федеральной службы судебных приставов"
   ]
  },
  {
   "cell_type": "markdown",
   "id": "e4294662-2db8-4673-b784-45b626234c6e",
   "metadata": {},
   "source": [
    "Используются POST- или GET-запросы следующего вида"
   ]
  },
  {
   "cell_type": "code",
   "execution_count": null,
   "id": "a1ff479e-6cd0-46d5-9e95-efa271fb9964",
   "metadata": {},
   "outputs": [],
   "source": [
    "requests.get('https://api.checko.ru/v2/enforcements?key={API-ключ}&{параметры запроса}')\n",
    "requests.post(\"https://api.checko.ru/v2/enforcements\", json=[{\"key\": '{API-ключ}', \"параметр1\": '{значение параметра1}', ...}])"
   ]
  },
  {
   "cell_type": "markdown",
   "id": "61860d77-a8e0-4e48-a092-e89f3ae84373",
   "metadata": {},
   "source": [
    "Параметры запроса\n",
    "- ogrn (ОГРН организации) - **Должен быть указан, если не указан ИНН**\n",
    "- inn (ИНН организации) - **Должен быть указан, если не указан ОГРН**\n",
    "- kpp (КПП организации) - Если вы указали ИНН организации, вы можете указать и ее КПП. Связка ИНН + КПП является уникальной и позволяет точно определить организацию\n",
    "- limit - Ограничение количества найденных исполнительных производств на одну страницу. Значение по умолчанию: 100, максимальное значение: 100\n",
    "- page (номер страницы) - Если количество найденных исполнительных производств превышает значение limit, результаты будут разбиты на несколько страниц и вы сможете использовать данный параметр для просмотра нужной страницы\n",
    "- sort (сортировка результатов)\n",
    "    - sort=date для сортировки по дате возбуждения, по возрастанию,\n",
    "    - sort=-date для сортировки по дате возбуждения, по убыванию."
   ]
  },
  {
   "cell_type": "markdown",
   "id": "5bfd6bc1-015b-4128-9f04-7635e1a920b3",
   "metadata": {},
   "source": [
    "Примеры запросов"
   ]
  },
  {
   "cell_type": "code",
   "execution_count": null,
   "id": "1a8552f4-a1b3-4156-843d-efa376e9a33c",
   "metadata": {},
   "outputs": [],
   "source": [
    "enforcements1 = requests.get(f'https://api.checko.ru/v2/enforcements?key={api_key}&inn=7707049388').json()"
   ]
  },
  {
   "cell_type": "code",
   "execution_count": null,
   "id": "d68d6d22-e07b-455e-8bca-359a769a3796",
   "metadata": {},
   "outputs": [],
   "source": [
    "enforcements2 = requests.get(f'https://api.checko.ru/v2/enforcements?key={api_key}&ogrn=1027700198767&sort=-date').json()"
   ]
  },
  {
   "cell_type": "markdown",
   "id": "9e7201fc-88c6-4302-9395-08a1ce08a85f",
   "metadata": {},
   "source": [
    "# Банки\n",
    "Информация о банках и кредитных организациях, ведущих деятельность в Российской Федерации. Используются данные Банка России (ЦБ РФ)"
   ]
  },
  {
   "cell_type": "markdown",
   "id": "aa4cd9e5-32c8-4941-a114-94fee74a2db3",
   "metadata": {},
   "source": [
    "Используются POST- или GET-запросы следующего вида"
   ]
  },
  {
   "cell_type": "code",
   "execution_count": null,
   "id": "3ba86ccf-7fe3-43aa-ab08-4a766ce383d6",
   "metadata": {},
   "outputs": [],
   "source": [
    "requests.get('https://api.checko.ru/v2/bank?key={API-ключ}&{параметры запроса}')\n",
    "requests.post(\"https://api.checko.ru/v2/bank\", json=[{\"key\": '{API-ключ}', \"параметр1\": '{значение параметра1}', ...}])"
   ]
  },
  {
   "cell_type": "markdown",
   "id": "20e8ce3f-27ca-42eb-9569-8a0c7eb98d90",
   "metadata": {},
   "source": [
    "Параметр запроса\n",
    "- bic (БИК банка или кредитной организации) - **Обязательный параметр**"
   ]
  },
  {
   "cell_type": "markdown",
   "id": "99f32c9b-8b88-4e66-bb18-e00684f4c7d9",
   "metadata": {},
   "source": [
    "Пример запроса"
   ]
  },
  {
   "cell_type": "code",
   "execution_count": null,
   "id": "6f5918c2-f5a6-431f-8046-04ed1c85f6af",
   "metadata": {},
   "outputs": [],
   "source": [
    "bank = requests.get(f'https://api.checko.ru/v2/bank?key={api_key}&bic=042908612').json()"
   ]
  }
 ],
 "metadata": {
  "kernelspec": {
   "display_name": "Python (Prod Env)",
   "language": "python",
   "name": "prod"
  },
  "language_info": {
   "codemirror_mode": {
    "name": "ipython",
    "version": 3
   },
   "file_extension": ".py",
   "mimetype": "text/x-python",
   "name": "python",
   "nbconvert_exporter": "python",
   "pygments_lexer": "ipython3",
   "version": "3.9.16"
  }
 },
 "nbformat": 4,
 "nbformat_minor": 5
}
