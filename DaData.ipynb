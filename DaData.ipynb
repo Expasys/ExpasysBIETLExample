{
 "cells": [
  {
   "cell_type": "code",
   "execution_count": 2,
   "id": "79ce7132-16bd-4008-aecb-dcd4099ebae6",
   "metadata": {},
   "outputs": [],
   "source": [
    "from dadata import Dadata"
   ]
  },
  {
   "cell_type": "raw",
   "id": "84d62a96-9706-4a90-ab99-f413838abc87",
   "metadata": {},
   "source": [
    "https://dadata.ru/api/"
   ]
  },
  {
   "cell_type": "code",
   "execution_count": 3,
   "id": "376c2226-3b0c-486a-9e9b-cd35a91c9938",
   "metadata": {},
   "outputs": [],
   "source": [
    "token = \"token\"\n",
    "secret = \"secret\""
   ]
  },
  {
   "cell_type": "code",
   "execution_count": null,
   "id": "c0ce95d1-5f15-4937-8385-de8f8c302180",
   "metadata": {},
   "outputs": [],
   "source": [
    "dadata = Dadata(token, secret)"
   ]
  },
  {
   "cell_type": "markdown",
   "id": "3b4e4ad5-337e-4871-8843-47cbd42ca6e5",
   "metadata": {},
   "source": [
    "Адреса"
   ]
  },
  {
   "cell_type": "markdown",
   "id": "fa1d488a-f56a-4a2b-927e-9727000d5f30",
   "metadata": {},
   "source": [
    "Стандартизация адресов/Геокодирование (координаты по адресу)/Кадастровый номер"
   ]
  },
  {
   "cell_type": "code",
   "execution_count": 51,
   "id": "3fa3db43-5f8e-479c-a660-3d7734f47d61",
   "metadata": {},
   "outputs": [],
   "source": [
    "clean_address = dadata.clean(\"address\", \"мск сухонска 11/-89\")"
   ]
  },
  {
   "cell_type": "markdown",
   "id": "f22b5c55-db4b-407b-98da-30470233b21e",
   "metadata": {},
   "source": [
    "Подсказки по адресам (автодополнение)"
   ]
  },
  {
   "cell_type": "code",
   "execution_count": 52,
   "id": "82b3593d-46ed-4f49-b609-3125a7f02180",
   "metadata": {},
   "outputs": [],
   "source": [
    "suggest_address = dadata.suggest(\"address\", \"москва хабар\")"
   ]
  },
  {
   "cell_type": "markdown",
   "id": "c6ee7602-7202-4a21-9fa1-c605b80a6946",
   "metadata": {},
   "source": [
    "Обратное геокодирование (адрес по координатам)"
   ]
  },
  {
   "cell_type": "code",
   "execution_count": 53,
   "id": "62776e65-4490-43a2-93ab-1e02e4ada408",
   "metadata": {},
   "outputs": [],
   "source": [
    "geolocate_address = dadata.geolocate(name=\"address\", lat=55.878, lon=37.653)"
   ]
  },
  {
   "cell_type": "markdown",
   "id": "9b213536-d329-4e01-9661-6f8644541c36",
   "metadata": {},
   "source": [
    "Город по IP-адресу"
   ]
  },
  {
   "cell_type": "code",
   "execution_count": 81,
   "id": "e6fb6642-3fa6-4326-9d08-ca687deb9833",
   "metadata": {},
   "outputs": [],
   "source": [
    "iplocate_address = dadata.iplocate(\"46.226.227.20\")"
   ]
  },
  {
   "cell_type": "markdown",
   "id": "93f0e5ca-07d3-4d1c-9afe-3e716f12c961",
   "metadata": {},
   "source": [
    "Адрес по коду"
   ]
  },
  {
   "cell_type": "raw",
   "id": "ac067670-b815-471d-81f2-e3bbd66b8c12",
   "metadata": {},
   "source": [
    "Находит адрес по идентификатору:\n",
    "кадастровый номер (stead_cadnum, house_cadnum или flat_cadnum), только для России;\n",
    "ФИАС-код, он же ГАР-код (fias_id), только для России;\n",
    "КЛАДР-код (kladr_id), только для России;\n",
    "Идентификатор OpenStreetMap (fias_id), только для Белоруссии и Узбекистана;\n",
    "Идентификатор GeoNames (geoname_id), для всех остальных стран."
   ]
  },
  {
   "cell_type": "code",
   "execution_count": 55,
   "id": "11ba335a-b78c-4cc9-8f91-3a26aa61e156",
   "metadata": {},
   "outputs": [],
   "source": [
    "find_by_id_address = dadata.find_by_id(\"address\", \"9120b43f-2fae-4838-a144-85e43c2bfb29\")"
   ]
  },
  {
   "cell_type": "markdown",
   "id": "7c6409be-ea87-48a6-9a93-21bc01c92618",
   "metadata": {},
   "source": [
    "Отделения Почты России"
   ]
  },
  {
   "cell_type": "markdown",
   "id": "4783d5d0-455e-4663-b9f4-4a443795f752",
   "metadata": {},
   "source": [
    "Полнотекстовый поиск (suggest)"
   ]
  },
  {
   "cell_type": "raw",
   "id": "19cc152c-90e4-461e-bd1c-8542ffece756",
   "metadata": {},
   "source": [
    "Поиск работает по полям:\n",
    "postal_code\n",
    "address_str"
   ]
  },
  {
   "cell_type": "code",
   "execution_count": 56,
   "id": "09b8e0cc-0b83-430a-9ac3-72710e61b4be",
   "metadata": {},
   "outputs": [],
   "source": [
    "suggest_postal_unit = dadata.suggest(\"postal_unit\", \"дежнева 2а\")"
   ]
  },
  {
   "cell_type": "markdown",
   "id": "86628b34-43ee-4234-8d46-e06eb95d7a99",
   "metadata": {},
   "source": [
    "Запись справочника по идентификатору (findById)"
   ]
  },
  {
   "cell_type": "raw",
   "id": "544d8ff6-b835-4d1d-afa6-17f7423bedee",
   "metadata": {},
   "source": [
    "Выборка по идентификатору работает по полям:\n",
    "postal_code"
   ]
  },
  {
   "cell_type": "code",
   "execution_count": null,
   "id": "eb4b1138-cb13-47ec-89ce-c84b8ed21b12",
   "metadata": {},
   "outputs": [],
   "source": [
    "find_by_id_postal_unit = dadata.find_by_id(\"postal_unit\", \"127642\")"
   ]
  },
  {
   "cell_type": "markdown",
   "id": "4e0e2a6f-fec6-49bd-8ae1-dfa58a0fbb6f",
   "metadata": {},
   "source": [
    "Идентификатор города в СДЭК, Boxberry и DPD"
   ]
  },
  {
   "cell_type": "code",
   "execution_count": 57,
   "id": "e0ad56c6-c707-450b-9b5d-ff11813b1138",
   "metadata": {},
   "outputs": [],
   "source": [
    "find_by_id_delivery = dadata.find_by_id(\"delivery\", \"3100400100000\")"
   ]
  },
  {
   "cell_type": "markdown",
   "id": "66bfda96-59ab-47e2-b6a6-47bc53899627",
   "metadata": {},
   "source": [
    "Страны"
   ]
  },
  {
   "cell_type": "markdown",
   "id": "eb4d199f-74d0-4606-aff5-883877e7402d",
   "metadata": {},
   "source": [
    "Полнотекстовый поиск (suggest)"
   ]
  },
  {
   "cell_type": "raw",
   "id": "4bbbe328-9515-4982-910f-7b1b7e72c957",
   "metadata": {},
   "source": [
    "Поиск работает по полям:\n",
    "code\n",
    "alfa2\n",
    "alfa3\n",
    "name_short\n",
    "name"
   ]
  },
  {
   "cell_type": "code",
   "execution_count": 58,
   "id": "e3a5ec36-d873-44dc-8ee7-b4201745ceae",
   "metadata": {},
   "outputs": [],
   "source": [
    "suggest_country = dadata.suggest(\"country\", \"та\")"
   ]
  },
  {
   "cell_type": "markdown",
   "id": "6ffb836f-5895-484e-bd97-c257bb4a18ff",
   "metadata": {},
   "source": [
    "Запись справочника по идентификатору (findById)"
   ]
  },
  {
   "cell_type": "raw",
   "id": "a7c8c83a-48d7-4fd4-af7c-5c788544b266",
   "metadata": {},
   "source": [
    "Выборка по идентификатору работает по полям:\n",
    "code\n",
    "alfa2\n",
    "alfa3"
   ]
  },
  {
   "cell_type": "code",
   "execution_count": 59,
   "id": "38f09c93-cce0-4bf0-84b7-39224de18650",
   "metadata": {},
   "outputs": [],
   "source": [
    "find_by_id_country = dadata.find_by_id(\"country\", \"TH\")"
   ]
  },
  {
   "cell_type": "markdown",
   "id": "4aa7bb8f-f740-4f35-af73-b23fb2e3ac77",
   "metadata": {},
   "source": [
    "Компании"
   ]
  },
  {
   "cell_type": "markdown",
   "id": "5071e5ca-bc35-404d-bf6c-ae38522b4c94",
   "metadata": {},
   "source": [
    "Организация по ИНН или ОГРН"
   ]
  },
  {
   "cell_type": "code",
   "execution_count": 4,
   "id": "d6bdc5d9-bfc1-40e2-8fd2-c5403395a657",
   "metadata": {},
   "outputs": [],
   "source": [
    "find_by_id_party = dadata.find_by_id(\"party\", \"7707083893\")"
   ]
  },
  {
   "cell_type": "markdown",
   "id": "69cb59c1-7d9f-4ab8-a721-6f54c76aa697",
   "metadata": {},
   "source": [
    "Подсказки по организациям (автодополнение)"
   ]
  },
  {
   "cell_type": "code",
   "execution_count": 114,
   "id": "72d7a213-7d8a-432a-86fd-6d89f2b5c116",
   "metadata": {},
   "outputs": [],
   "source": [
    "suggest_party = dadata.suggest(\"party\", \"сбербанк\")"
   ]
  },
  {
   "cell_type": "markdown",
   "id": "e18de9a0-4eeb-40fe-9579-a30d4ea92fce",
   "metadata": {},
   "source": [
    "Поиск аффилированных компаний"
   ]
  },
  {
   "cell_type": "code",
   "execution_count": 62,
   "id": "1ef52b13-8f77-438a-9081-342fb83143b3",
   "metadata": {
    "collapsed": true,
    "jupyter": {
     "outputs_hidden": true
    },
    "tags": []
   },
   "outputs": [
    {
     "ename": "HTTPStatusError",
     "evalue": "Client error '403 Forbidden' for url 'https://suggestions.dadata.ru/suggestions/api/4_1/rs/findAffiliated/party'\nFor more information check: https://httpstatuses.com/403",
     "output_type": "error",
     "traceback": [
      "\u001b[0;31m---------------------------------------------------------------------------\u001b[0m",
      "\u001b[0;31mHTTPStatusError\u001b[0m                           Traceback (most recent call last)",
      "Cell \u001b[0;32mIn[62], line 2\u001b[0m\n\u001b[1;32m      1\u001b[0m dadata \u001b[38;5;241m=\u001b[39m Dadata(token)\n\u001b[0;32m----> 2\u001b[0m find_affiliated_party \u001b[38;5;241m=\u001b[39m \u001b[43mdadata\u001b[49m\u001b[38;5;241;43m.\u001b[39;49m\u001b[43mfind_affiliated\u001b[49m\u001b[43m(\u001b[49m\u001b[38;5;124;43m\"\u001b[39;49m\u001b[38;5;124;43m7736207543\u001b[39;49m\u001b[38;5;124;43m\"\u001b[39;49m\u001b[43m)\u001b[49m\n",
      "File \u001b[0;32m~/.local/lib/python3.9/site-packages/dadata/sync.py:200\u001b[0m, in \u001b[0;36mDadataClient.find_affiliated\u001b[0;34m(self, query, count, **kwargs)\u001b[0m\n\u001b[1;32m    196\u001b[0m \u001b[38;5;28;01mdef\u001b[39;00m \u001b[38;5;21mfind_affiliated\u001b[39m(\n\u001b[1;32m    197\u001b[0m     \u001b[38;5;28mself\u001b[39m, query: \u001b[38;5;28mstr\u001b[39m, count: \u001b[38;5;28mint\u001b[39m \u001b[38;5;241m=\u001b[39m settings\u001b[38;5;241m.\u001b[39mSUGGESTION_COUNT, \u001b[38;5;241m*\u001b[39m\u001b[38;5;241m*\u001b[39mkwargs\n\u001b[1;32m    198\u001b[0m ) \u001b[38;5;241m-\u001b[39m\u001b[38;5;241m>\u001b[39m List[Dict]:\n\u001b[1;32m    199\u001b[0m     \u001b[38;5;124;03m\"\"\"Find affiliated parties by INN.\"\"\"\u001b[39;00m\n\u001b[0;32m--> 200\u001b[0m     \u001b[38;5;28;01mreturn\u001b[39;00m \u001b[38;5;28;43mself\u001b[39;49m\u001b[38;5;241;43m.\u001b[39;49m\u001b[43m_suggestions\u001b[49m\u001b[38;5;241;43m.\u001b[39;49m\u001b[43mfind_affiliated\u001b[49m\u001b[43m(\u001b[49m\u001b[43mquery\u001b[49m\u001b[38;5;241;43m=\u001b[39;49m\u001b[43mquery\u001b[49m\u001b[43m,\u001b[49m\u001b[43m \u001b[49m\u001b[43mcount\u001b[49m\u001b[38;5;241;43m=\u001b[39;49m\u001b[43mcount\u001b[49m\u001b[43m,\u001b[49m\u001b[43m \u001b[49m\u001b[38;5;241;43m*\u001b[39;49m\u001b[38;5;241;43m*\u001b[39;49m\u001b[43mkwargs\u001b[49m\u001b[43m)\u001b[49m\n",
      "File \u001b[0;32m~/.local/lib/python3.9/site-packages/dadata/sync.py:123\u001b[0m, in \u001b[0;36mSuggestClient.find_affiliated\u001b[0;34m(self, query, count, **kwargs)\u001b[0m\n\u001b[1;32m    121\u001b[0m data \u001b[38;5;241m=\u001b[39m {\u001b[38;5;124m\"\u001b[39m\u001b[38;5;124mquery\u001b[39m\u001b[38;5;124m\"\u001b[39m: query, \u001b[38;5;124m\"\u001b[39m\u001b[38;5;124mcount\u001b[39m\u001b[38;5;124m\"\u001b[39m: count}\n\u001b[1;32m    122\u001b[0m data\u001b[38;5;241m.\u001b[39mupdate(kwargs)\n\u001b[0;32m--> 123\u001b[0m response \u001b[38;5;241m=\u001b[39m \u001b[38;5;28;43mself\u001b[39;49m\u001b[38;5;241;43m.\u001b[39;49m\u001b[43m_post\u001b[49m\u001b[43m(\u001b[49m\u001b[43murl\u001b[49m\u001b[43m,\u001b[49m\u001b[43m \u001b[49m\u001b[43mdata\u001b[49m\u001b[43m)\u001b[49m\n\u001b[1;32m    124\u001b[0m \u001b[38;5;28;01mreturn\u001b[39;00m response[\u001b[38;5;124m\"\u001b[39m\u001b[38;5;124msuggestions\u001b[39m\u001b[38;5;124m\"\u001b[39m]\n",
      "File \u001b[0;32m~/.local/lib/python3.9/site-packages/dadata/sync.py:43\u001b[0m, in \u001b[0;36mClientBase._post\u001b[0;34m(self, url, data, timeout)\u001b[0m\n\u001b[1;32m     41\u001b[0m \u001b[38;5;124;03m\"\"\"POST request to Dadata API\"\"\"\u001b[39;00m\n\u001b[1;32m     42\u001b[0m response \u001b[38;5;241m=\u001b[39m \u001b[38;5;28mself\u001b[39m\u001b[38;5;241m.\u001b[39m_client\u001b[38;5;241m.\u001b[39mpost(url, json\u001b[38;5;241m=\u001b[39mdata, timeout\u001b[38;5;241m=\u001b[39mtimeout)\n\u001b[0;32m---> 43\u001b[0m \u001b[43mresponse\u001b[49m\u001b[38;5;241;43m.\u001b[39;49m\u001b[43mraise_for_status\u001b[49m\u001b[43m(\u001b[49m\u001b[43m)\u001b[49m\n\u001b[1;32m     44\u001b[0m \u001b[38;5;28;01mreturn\u001b[39;00m response\u001b[38;5;241m.\u001b[39mjson()\n",
      "File \u001b[0;32m~/.local/lib/python3.9/site-packages/httpx/_models.py:749\u001b[0m, in \u001b[0;36mResponse.raise_for_status\u001b[0;34m(self)\u001b[0m\n\u001b[1;32m    747\u001b[0m error_type \u001b[38;5;241m=\u001b[39m error_types\u001b[38;5;241m.\u001b[39mget(status_class, \u001b[38;5;124m\"\u001b[39m\u001b[38;5;124mInvalid status code\u001b[39m\u001b[38;5;124m\"\u001b[39m)\n\u001b[1;32m    748\u001b[0m message \u001b[38;5;241m=\u001b[39m message\u001b[38;5;241m.\u001b[39mformat(\u001b[38;5;28mself\u001b[39m, error_type\u001b[38;5;241m=\u001b[39merror_type)\n\u001b[0;32m--> 749\u001b[0m \u001b[38;5;28;01mraise\u001b[39;00m HTTPStatusError(message, request\u001b[38;5;241m=\u001b[39mrequest, response\u001b[38;5;241m=\u001b[39m\u001b[38;5;28mself\u001b[39m)\n",
      "\u001b[0;31mHTTPStatusError\u001b[0m: Client error '403 Forbidden' for url 'https://suggestions.dadata.ru/suggestions/api/4_1/rs/findAffiliated/party'\nFor more information check: https://httpstatuses.com/403"
     ]
    }
   ],
   "source": [
    "#только с подпиской\n",
    "find_affiliated_party = dadata.find_affiliated(\"7736207543\")"
   ]
  },
  {
   "cell_type": "markdown",
   "id": "efa2c5fe-e51c-41b3-b5a0-04aedc527abd",
   "metadata": {},
   "source": [
    "Банки"
   ]
  },
  {
   "cell_type": "markdown",
   "id": "398af208-af64-494b-a63b-92107a435529",
   "metadata": {},
   "source": [
    "Банк по БИК, SWIFT, ИНН или регистрационному номеру"
   ]
  },
  {
   "cell_type": "code",
   "execution_count": 63,
   "id": "0fc84cba-9045-4302-8cb2-c31d08729220",
   "metadata": {},
   "outputs": [],
   "source": [
    "find_by_id_bank = dadata.find_by_id(\"bank\", \"044525225\")"
   ]
  },
  {
   "cell_type": "markdown",
   "id": "0b2cec28-b5da-4288-bcf5-724541416724",
   "metadata": {},
   "source": [
    "Подсказки по банкам"
   ]
  },
  {
   "cell_type": "code",
   "execution_count": 64,
   "id": "ec80b04d-aca0-42a4-96f4-5a0b16ecacee",
   "metadata": {},
   "outputs": [],
   "source": [
    "suggest_bank = dadata.suggest(\"bank\", \"сбербанк\")"
   ]
  },
  {
   "cell_type": "markdown",
   "id": "c3f0f20d-c67c-48f5-9747-55c9263c8f6e",
   "metadata": {},
   "source": [
    "ФИО"
   ]
  },
  {
   "cell_type": "markdown",
   "id": "c878c4ae-3bed-40fb-95c3-dc359676eafc",
   "metadata": {},
   "source": [
    "Стандартизация ФИО"
   ]
  },
  {
   "cell_type": "code",
   "execution_count": 65,
   "id": "21c177bd-9913-4a4d-b632-62303045d6a2",
   "metadata": {},
   "outputs": [],
   "source": [
    "clean_name = dadata.clean(\"name\", \"Срегей владимерович иванов\")"
   ]
  },
  {
   "cell_type": "markdown",
   "id": "b0e15ce2-d0fa-4492-adc5-90a443c8eb55",
   "metadata": {},
   "source": [
    "Подсказки по ФИО (автодополнение)"
   ]
  },
  {
   "cell_type": "code",
   "execution_count": 66,
   "id": "0609ec41-769f-4fe6-a929-d5fbd3e269a4",
   "metadata": {},
   "outputs": [],
   "source": [
    "suggest_fio = dadata.suggest(\"fio\", \"Викт\")"
   ]
  },
  {
   "cell_type": "markdown",
   "id": "e4c7c66c-6c2c-48eb-af3e-bfe046c527f7",
   "metadata": {},
   "source": [
    "Телефоны"
   ]
  },
  {
   "cell_type": "markdown",
   "id": "10e262c2-3e3d-4e7b-b01c-104a47098bc1",
   "metadata": {},
   "source": [
    "Стандартизация телефонов"
   ]
  },
  {
   "cell_type": "code",
   "execution_count": 67,
   "id": "13e412c5-ec66-4f92-a422-1140a63b620a",
   "metadata": {},
   "outputs": [],
   "source": [
    "clean_phone = dadata.clean(\"phone\", \"раб 846)231.60.14 *139\")"
   ]
  },
  {
   "cell_type": "markdown",
   "id": "8cd2f2bc-e57d-4b35-984a-81dac3db1f63",
   "metadata": {},
   "source": [
    "Паспорта"
   ]
  },
  {
   "cell_type": "markdown",
   "id": "ff18cf3c-26d9-4062-99bd-3865be30bbb0",
   "metadata": {},
   "source": [
    "Стандартизация паспортов (Проверка по реестру МВД)"
   ]
  },
  {
   "cell_type": "code",
   "execution_count": 68,
   "id": "b7684e99-99c7-4127-89c7-94576927e2f2",
   "metadata": {},
   "outputs": [],
   "source": [
    "clean_passport = dadata.clean(\"passport\", \"4509 235857\")"
   ]
  },
  {
   "cell_type": "markdown",
   "id": "7b383706-e2f1-44ef-acb4-452343f4ceb6",
   "metadata": {},
   "source": [
    "Кем выдан паспорт"
   ]
  },
  {
   "cell_type": "markdown",
   "id": "783dea57-5d72-478a-87ae-c2b22bbb962f",
   "metadata": {},
   "source": [
    "Полнотекстовый поиск (suggest)"
   ]
  },
  {
   "cell_type": "raw",
   "id": "c5a9b15b-a6f0-4652-a74d-2a39f3003b94",
   "metadata": {},
   "source": [
    "Поиск работает по полям:\n",
    "code\n",
    "name"
   ]
  },
  {
   "cell_type": "code",
   "execution_count": 69,
   "id": "06226056-8f64-4682-b7ad-0ddc0e06fc0e",
   "metadata": {},
   "outputs": [],
   "source": [
    "suggest_fms_unit = dadata.suggest(\"fms_unit\", \"772-053\")"
   ]
  },
  {
   "cell_type": "markdown",
   "id": "4df4c202-44de-4908-9258-4558415c9ae7",
   "metadata": {},
   "source": [
    "Email"
   ]
  },
  {
   "cell_type": "markdown",
   "id": "563da97d-16ce-4fec-8a75-ccc3066aca4a",
   "metadata": {},
   "source": [
    "Стандартизация email"
   ]
  },
  {
   "cell_type": "code",
   "execution_count": 70,
   "id": "470b89cc-fc07-4d7d-ae63-2c58539151c9",
   "metadata": {},
   "outputs": [],
   "source": [
    "clean_email = dadata.clean(\"email\", \"serega@yandex/ru\")"
   ]
  },
  {
   "cell_type": "markdown",
   "id": "63ebb1d1-5b67-416c-9168-c1db9e84f6fd",
   "metadata": {},
   "source": [
    "Подсказки по email (автодополнение)"
   ]
  },
  {
   "cell_type": "code",
   "execution_count": 71,
   "id": "5ff98f99-131d-4c33-a2b4-093eefafa5f7",
   "metadata": {},
   "outputs": [],
   "source": [
    "suggest_email = dadata.suggest(\"email\", \"anton@\")"
   ]
  },
  {
   "cell_type": "markdown",
   "id": "ef6e9e18-7725-4d85-82a3-760819850423",
   "metadata": {},
   "source": [
    "Автомобили"
   ]
  },
  {
   "cell_type": "markdown",
   "id": "04dd45d6-beee-4ee8-8f23-c5ee683f3d32",
   "metadata": {},
   "source": [
    "Стандартизация автомобилей"
   ]
  },
  {
   "cell_type": "code",
   "execution_count": 120,
   "id": "63115558-df6e-4582-90c8-063b942918a2",
   "metadata": {},
   "outputs": [],
   "source": [
    "clean_vehicle = dadata.clean(\"vehicle\", \"форд фокус\")"
   ]
  },
  {
   "cell_type": "markdown",
   "id": "6e788feb-d091-48da-863c-0be71773b599",
   "metadata": {},
   "source": [
    "Марки автомобилей"
   ]
  },
  {
   "cell_type": "markdown",
   "id": "72976820-9e4c-4444-aafa-5225ccf56421",
   "metadata": {},
   "source": [
    "Полнотекстовый поиск (suggest)"
   ]
  },
  {
   "cell_type": "raw",
   "id": "cff5fdb7-fd51-4e32-ae4e-19f03af37d53",
   "metadata": {},
   "source": [
    "Поиск работает по полям:\n",
    "name\n",
    "name_ru"
   ]
  },
  {
   "cell_type": "code",
   "execution_count": 122,
   "id": "0e4a1a21-43ab-4f0a-acc2-bfcb30e675f3",
   "metadata": {},
   "outputs": [],
   "source": [
    "suggest_car_brand = dadata.suggest(\"car_brand\", \"форд\")"
   ]
  },
  {
   "cell_type": "markdown",
   "id": "b1ebd999-d461-4854-bee9-1a435c3f81d2",
   "metadata": {},
   "source": [
    "Запись справочника по идентификатору (findById)"
   ]
  },
  {
   "cell_type": "raw",
   "id": "4a316ffd-f502-4fb6-a7ed-772121622fa3",
   "metadata": {},
   "source": [
    "Выборка по идентификатору работает по полям:\n",
    "id"
   ]
  },
  {
   "cell_type": "code",
   "execution_count": null,
   "id": "4512d59e-4d3f-4346-955d-1338b3dcc8c6",
   "metadata": {},
   "outputs": [],
   "source": [
    "find_by_id_car_brand = dadata.find_by_id(\"car_brand\", \"FORD\")"
   ]
  },
  {
   "cell_type": "markdown",
   "id": "72040e5b-2c02-4f45-84a0-5487ff782606",
   "metadata": {},
   "source": [
    "Прочие справочники"
   ]
  },
  {
   "cell_type": "markdown",
   "id": "ca5862cc-5bb4-4a42-afb9-e981e4c95dcc",
   "metadata": {},
   "source": [
    "Налоговые инспекции"
   ]
  },
  {
   "cell_type": "markdown",
   "id": "00d76275-1f65-4b24-8494-4c0e6bb03642",
   "metadata": {},
   "source": [
    "Полнотекстовый поиск (suggest)"
   ]
  },
  {
   "cell_type": "raw",
   "id": "bed2081a-ce6b-49ab-b897-4d278a59502c",
   "metadata": {},
   "source": [
    "Поиск работает по полям:\n",
    "code\n",
    "name_short\n",
    "address"
   ]
  },
  {
   "cell_type": "code",
   "execution_count": 123,
   "id": "90e8527e-a41f-49bc-8eff-5e6cea728b06",
   "metadata": {},
   "outputs": [],
   "source": [
    "suggest_fns_unit = dadata.suggest(\"fns_unit\", \"нижнего\")"
   ]
  },
  {
   "cell_type": "markdown",
   "id": "0b4ebf01-201d-4556-b821-fb5e98fcf6e8",
   "metadata": {},
   "source": [
    "Запись справочника по идентификатору (findById)"
   ]
  },
  {
   "cell_type": "raw",
   "id": "a4da4068-5832-47ef-a7db-99740e4dbb47",
   "metadata": {},
   "source": [
    "Выборка по идентификатору работает по полям:\n",
    "code\n",
    "inn"
   ]
  },
  {
   "cell_type": "code",
   "execution_count": 124,
   "id": "42eb95bc-8677-4102-809e-644fb8a8ec50",
   "metadata": {},
   "outputs": [],
   "source": [
    "find_by_id_fns_unit = dadata.find_by_id(\"fns_unit\", \"5257\")"
   ]
  },
  {
   "cell_type": "markdown",
   "id": "5fa8f2f4-14c7-474f-bbb4-74370eef15c9",
   "metadata": {},
   "source": [
    "Таможни"
   ]
  },
  {
   "cell_type": "markdown",
   "id": "17ce152f-a1f6-4580-bb53-b1702f6b9925",
   "metadata": {},
   "source": [
    "Полнотекстовый поиск (suggest)"
   ]
  },
  {
   "cell_type": "raw",
   "id": "1554450a-a8f2-4bd2-a246-aa2f23e6ae26",
   "metadata": {},
   "source": [
    "Поиск работает по полям:\n",
    "code\n",
    "name_short\n",
    "name\n",
    "address"
   ]
  },
  {
   "cell_type": "code",
   "execution_count": 125,
   "id": "2518fa93-dec6-4326-8e90-ef99b366ef03",
   "metadata": {},
   "outputs": [],
   "source": [
    "suggest_fts_unit = dadata.suggest(\"fts_unit\", \"домодедово\")"
   ]
  },
  {
   "cell_type": "markdown",
   "id": "61fdcc36-7cc7-4501-8802-751d95308dfe",
   "metadata": {},
   "source": [
    "Запись справочника по идентификатору (findById)"
   ]
  },
  {
   "cell_type": "raw",
   "id": "fc147ee3-7ba9-46d8-a92e-f509310b1173",
   "metadata": {},
   "source": [
    "Выборка по идентификатору работает по полям:\n",
    "code"
   ]
  },
  {
   "cell_type": "code",
   "execution_count": 126,
   "id": "8f5ef68b-2e40-485b-be99-a4d31c0c3d21",
   "metadata": {},
   "outputs": [],
   "source": [
    "find_by_id_fts_unit = dadata.find_by_id(\"fts_unit\", \"10002000\")"
   ]
  },
  {
   "cell_type": "markdown",
   "id": "d9efd578-aa69-483a-9750-24d5680ce587",
   "metadata": {},
   "source": [
    "Мировые суды"
   ]
  },
  {
   "cell_type": "raw",
   "id": "08b99920-9dd7-4a3e-b8e6-33b708f00a1a",
   "metadata": {},
   "source": [
    "Поиск работает по полям:\n",
    "code\n",
    "name"
   ]
  },
  {
   "cell_type": "code",
   "execution_count": 127,
   "id": "7a0c1b49-43b3-4677-9de2-06cd993c8f5e",
   "metadata": {},
   "outputs": [],
   "source": [
    "suggest_region_court = dadata.suggest(\"region_court\", \"нижний\")"
   ]
  },
  {
   "cell_type": "markdown",
   "id": "97ea8559-cb1c-40df-9490-0ebb67b15633",
   "metadata": {},
   "source": [
    "Запись справочника по идентификатору (findById)"
   ]
  },
  {
   "cell_type": "raw",
   "id": "538ff42a-8dc3-44f9-a1a6-353de9a74961",
   "metadata": {},
   "source": [
    "Выборка по идентификатору работает по полям:\n",
    "code"
   ]
  },
  {
   "cell_type": "code",
   "execution_count": 129,
   "id": "a96a49a4-35b9-489b-baf3-e3715a38d26b",
   "metadata": {},
   "outputs": [],
   "source": [
    "find_by_id_region_court = dadata.find_by_id(\"region_court\", \"52MS0022\")"
   ]
  },
  {
   "cell_type": "markdown",
   "id": "515b30c0-46e8-4e68-aa12-c0da98859a21",
   "metadata": {},
   "source": [
    "Станции метро"
   ]
  },
  {
   "cell_type": "markdown",
   "id": "cfa06d5d-b11f-4496-8143-e01bb8e5342b",
   "metadata": {},
   "source": [
    "Полнотекстовый поиск (suggest)"
   ]
  },
  {
   "cell_type": "raw",
   "id": "a10ad106-2c94-4be3-be29-6048bf34128c",
   "metadata": {},
   "source": [
    "Поиск работает по полям:\n",
    "name\n",
    "city"
   ]
  },
  {
   "cell_type": "code",
   "execution_count": 130,
   "id": "64dc1bf7-9738-4272-9f5e-7e2da4421a92",
   "metadata": {},
   "outputs": [],
   "source": [
    "suggest_metro = dadata.suggest(\"metro\", \"алек\")"
   ]
  },
  {
   "cell_type": "markdown",
   "id": "a71beae5-b490-4312-b802-db6fdaec5452",
   "metadata": {},
   "source": [
    "Товары и услуги (МКТУ)"
   ]
  },
  {
   "cell_type": "markdown",
   "id": "12ad000a-61ba-4f89-9962-d9503dda5dd8",
   "metadata": {},
   "source": [
    "Полнотекстовый поиск (suggest)"
   ]
  },
  {
   "cell_type": "raw",
   "id": "f12634a4-4d9e-4bd2-8993-078fe59c377c",
   "metadata": {},
   "source": [
    "Поиск работает по полям:\n",
    "number\n",
    "name_ru\n",
    "name_en"
   ]
  },
  {
   "cell_type": "code",
   "execution_count": 131,
   "id": "07a44072-610b-47f6-bbef-b927bdb94d87",
   "metadata": {},
   "outputs": [],
   "source": [
    "suggest_mktu = dadata.suggest(\"mktu\", \"валенки\")"
   ]
  },
  {
   "cell_type": "markdown",
   "id": "efc29798-42d9-4745-a782-4dd2600fbfbd",
   "metadata": {},
   "source": [
    "Запись справочника по идентификатору (findById)"
   ]
  },
  {
   "cell_type": "raw",
   "id": "bba424f2-cf4d-4805-9955-d75b4a5f0439",
   "metadata": {},
   "source": [
    "Выборка по идентификатору работает по полям:\n",
    "number"
   ]
  },
  {
   "cell_type": "code",
   "execution_count": 134,
   "id": "535f8649-9683-4d6d-8d44-f6b2bf8c3bf2",
   "metadata": {},
   "outputs": [],
   "source": [
    "find_by_id_mktu = dadata.find_by_id(\"mktu\", \"250173\")"
   ]
  },
  {
   "cell_type": "markdown",
   "id": "c9cc4dd6-d374-4e37-a999-8ee1c426a070",
   "metadata": {},
   "source": [
    "Валюты"
   ]
  },
  {
   "cell_type": "markdown",
   "id": "3088b71c-ab9b-472b-9bd7-f96be9c79dbd",
   "metadata": {},
   "source": [
    "Полнотекстовый поиск (suggest)"
   ]
  },
  {
   "cell_type": "raw",
   "id": "5571f566-f920-4a56-b102-ce4b9a0807b3",
   "metadata": {},
   "source": [
    "Поиск работает по полям:\n",
    "code\n",
    "strcode\n",
    "name\n",
    "country"
   ]
  },
  {
   "cell_type": "code",
   "execution_count": 135,
   "id": "5e8cb2d2-d696-47cf-afcb-d16454e7d7b9",
   "metadata": {},
   "outputs": [],
   "source": [
    "suggest_currency = dadata.suggest(\"currency\", \"руб\")"
   ]
  },
  {
   "cell_type": "markdown",
   "id": "357239d7-0d33-42a1-829d-6293198699fc",
   "metadata": {},
   "source": [
    "Запись справочника по идентификатору (findById)"
   ]
  },
  {
   "cell_type": "raw",
   "id": "7fe5b56c-ef63-4f41-b726-338fe70aaa98",
   "metadata": {},
   "source": [
    "Выборка по идентификатору работает по полям:\n",
    "code\n",
    "strcode"
   ]
  },
  {
   "cell_type": "code",
   "execution_count": 136,
   "id": "6c0002f9-44ad-44af-b018-4ac0d5254a8a",
   "metadata": {},
   "outputs": [],
   "source": [
    "find_by_id_currency = dadata.find_by_id(\"currency\", \"RUB\")"
   ]
  },
  {
   "cell_type": "markdown",
   "id": "8ce40d38-6982-44ae-9ec6-71f961bbd518",
   "metadata": {},
   "source": [
    "Виды деятельности (ОКВЭД 2)"
   ]
  },
  {
   "cell_type": "markdown",
   "id": "c35ea816-8c5a-4792-950b-b465452b2e67",
   "metadata": {},
   "source": [
    "Полнотекстовый поиск (suggest)"
   ]
  },
  {
   "cell_type": "raw",
   "id": "9d361cff-c955-44d8-bc51-888815a1cf85",
   "metadata": {},
   "source": [
    "Поиск работает по полям:\n",
    "kod\n",
    "name"
   ]
  },
  {
   "cell_type": "code",
   "execution_count": 137,
   "id": "9e7b45c4-bcaa-422e-ad89-5d706422ccdd",
   "metadata": {},
   "outputs": [],
   "source": [
    "suggest_okved2 = dadata.suggest(\"okved2\", \"запуск\")"
   ]
  },
  {
   "cell_type": "markdown",
   "id": "d410caff-37ff-4aa6-8fde-5344acb84218",
   "metadata": {},
   "source": [
    "Запись справочника по идентификатору (findById)"
   ]
  },
  {
   "cell_type": "raw",
   "id": "c785736d-80db-4f9d-af23-4ad6862b8bdd",
   "metadata": {},
   "source": [
    "Выборка по идентификатору работает по полям:\n",
    "kod"
   ]
  },
  {
   "cell_type": "code",
   "execution_count": 138,
   "id": "47c4728e-6baa-4fe2-a945-794739eb92ec",
   "metadata": {},
   "outputs": [],
   "source": [
    "find_by_id_okved2 = dadata.find_by_id(\"okved2\", \"51.22.3\")"
   ]
  },
  {
   "cell_type": "markdown",
   "id": "bb79a483-0b3c-4e7a-bee1-27fd09e2803e",
   "metadata": {},
   "source": [
    "Виды продукции (ОКПД 2)"
   ]
  },
  {
   "cell_type": "markdown",
   "id": "35dadf15-5dc4-48f7-94e4-557f31230ace",
   "metadata": {},
   "source": [
    "Полнотекстовый поиск (suggest)"
   ]
  },
  {
   "cell_type": "raw",
   "id": "011afeaf-1e78-4819-8a28-437b885a6d6a",
   "metadata": {},
   "source": [
    "Поиск работает по полям:\n",
    "kod\n",
    "name"
   ]
  },
  {
   "cell_type": "code",
   "execution_count": 139,
   "id": "a40390aa-afea-4501-847d-df45495c1cd8",
   "metadata": {},
   "outputs": [],
   "source": [
    "suggest_okpd2 = dadata.suggest(\"okpd2\", \"калоши\")"
   ]
  },
  {
   "cell_type": "markdown",
   "id": "02d448c3-de3e-4092-aca3-3aaed546998d",
   "metadata": {},
   "source": [
    "Запись справочника по идентификатору (findById)"
   ]
  },
  {
   "cell_type": "raw",
   "id": "52bd6236-371a-493b-8843-19dd75b82754",
   "metadata": {},
   "source": [
    "Выборка по идентификатору работает по полям:\n",
    "kod"
   ]
  },
  {
   "cell_type": "code",
   "execution_count": 140,
   "id": "12ef0da6-f38a-43da-8f2f-bf1c186c19bc",
   "metadata": {},
   "outputs": [],
   "source": [
    "find_by_id_okpd2 = dadata.find_by_id(\"okpd2\", \"95.23.10.133\")"
   ]
  },
  {
   "cell_type": "markdown",
   "id": "56ef926f-db00-4a82-aeee-87d7d2fc5ed4",
   "metadata": {},
   "source": [
    "Муниципальные образования (ОКТМО)"
   ]
  },
  {
   "cell_type": "markdown",
   "id": "d955303d-52e6-4a27-a198-645c5c2f3df8",
   "metadata": {},
   "source": [
    "Запись справочника по идентификатору (findById)"
   ]
  },
  {
   "cell_type": "raw",
   "id": "299526e4-93f4-404c-b7ff-c6b9bb3a6536",
   "metadata": {},
   "source": [
    "Выборка по идентификатору работает по полям:\n",
    "oktmo"
   ]
  },
  {
   "cell_type": "code",
   "execution_count": 141,
   "id": "8c6b41ef-70d2-4a5a-8043-9289e685aebb",
   "metadata": {},
   "outputs": [],
   "source": [
    "find_by_id_oktmo = dadata.find_by_id(\"oktmo\", \"54623425\")"
   ]
  },
  {
   "cell_type": "markdown",
   "id": "48f639d5-980f-4e92-a66e-dd1eac1a12ff",
   "metadata": {},
   "source": [
    "Личный кабинет\n",
    "\n",
    "Статистика использования"
   ]
  },
  {
   "cell_type": "raw",
   "id": "4bb187d8-cf3a-4a7b-8554-c44568ccbd1c",
   "metadata": {},
   "source": [
    "Возвращает агрегированную статистику за конкретный день по каждому из сервисов:\n",
    "стандартизация (clean);\n",
    "компания по email (company),\n",
    "поиск дублей (merging),\n",
    "подсказки (suggestions)."
   ]
  },
  {
   "cell_type": "code",
   "execution_count": 144,
   "id": "fd0c30b9-b7cb-4682-8b0e-2cb60c6c74ed",
   "metadata": {},
   "outputs": [],
   "source": [
    "daily_stats = dadata.get_daily_stats()"
   ]
  },
  {
   "cell_type": "code",
   "execution_count": null,
   "id": "1a6ad37d-2aeb-4021-b83a-8b144da5072a",
   "metadata": {},
   "outputs": [],
   "source": []
  }
 ],
 "metadata": {
  "kernelspec": {
   "display_name": "Python (Prod Env)",
   "language": "python",
   "name": "prod"
  },
  "language_info": {
   "codemirror_mode": {
    "name": "ipython",
    "version": 3
   },
   "file_extension": ".py",
   "mimetype": "text/x-python",
   "name": "python",
   "nbconvert_exporter": "python",
   "pygments_lexer": "ipython3",
   "version": "3.9.16"
  }
 },
 "nbformat": 4,
 "nbformat_minor": 5
}
